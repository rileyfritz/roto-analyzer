{
 "cells": [
  {
   "cell_type": "code",
   "execution_count": 1,
   "metadata": {},
   "outputs": [],
   "source": [
    "# Dependencies\n",
    "from bs4 import BeautifulSoup\n",
    "import requests\n",
    "# import pymongo\n",
    "import pandas as pd\n",
    "from splinter import Browser\n",
    "from webdriver_manager.chrome import ChromeDriverManager"
   ]
  },
  {
   "cell_type": "code",
   "execution_count": 2,
   "metadata": {},
   "outputs": [
    {
     "name": "stderr",
     "output_type": "stream",
     "text": [
      "[WDM] - ====== WebDriver manager ======\n",
      "[WDM] - Current google-chrome version is 89.0.4389\n",
      "[WDM] - Get LATEST driver version for 89.0.4389\n"
     ]
    },
    {
     "name": "stdout",
     "output_type": "stream",
     "text": [
      "\n",
      "\n"
     ]
    },
    {
     "name": "stderr",
     "output_type": "stream",
     "text": [
      "[WDM] - Get LATEST driver version for 89.0.4389\n",
      "[WDM] - Trying to download new driver from https://chromedriver.storage.googleapis.com/89.0.4389.23/chromedriver_win32.zip\n",
      "[WDM] - Driver has been saved in cache [C:\\Users\\Owner\\.wdm\\drivers\\chromedriver\\win32\\89.0.4389.23]\n"
     ]
    }
   ],
   "source": [
    "# Bringing in browser\n",
    "executable_path = {'executable_path': ChromeDriverManager().install()}\n",
    "browser = Browser('chrome', **executable_path, headless=False)"
   ]
  },
  {
   "cell_type": "code",
   "execution_count": 3,
   "metadata": {},
   "outputs": [],
   "source": [
    "# Visit url \n",
    "url = 'https://rotogrinders.com/resultsdb/site/draftkings/date/2021-04-03/sport/mlb/slate/6069d49642e1de0fd1ab7a88/contest/6069d4c142e1de0fd1abe7cc'\n",
    "browser.visit(url)\n",
    " # HTML object\n",
    "html = browser.html\n",
    "# Parse HTML with Beautiful Soup\n",
    "soup = BeautifulSoup(html, 'html.parser')"
   ]
  },
  {
   "cell_type": "code",
   "execution_count": null,
   "metadata": {},
   "outputs": [],
   "source": [
    "# Retrieve the parent divs for all articles\n",
    "results = soup.find('div', class_= 'ant-table-body')\n",
    "# data = results.find('tr').text\n",
    "browser.quit()"
   ]
  },
  {
   "cell_type": "code",
   "execution_count": 14,
   "metadata": {},
   "outputs": [
    {
     "name": "stdout",
     "output_type": "stream",
     "text": [
      "RankUserPointsEntriesPrize\n",
      "1jcarter2k 208.951$3,000\n",
      "2bowl800s 202.95150$762.50\n",
      "2NYGFan56 Member202.9520$762.50\n",
      "2neech74 Member202.959$762.50\n",
      "2EmceeDusty44 Member202.95150$762.50\n",
      "6JJJ89 Member200.95150$250\n",
      "7jdravis Member199.751$200\n",
      "7iplace34 Member199.75150$200\n",
      "9EmceeDusty44 Member199.7150$150\n",
      "10bowl800s 199.6150$150\n",
      "11bowl800s 198.6150$100\n",
      "11JJJ89 Member198.6150$100\n",
      "13ShibbyBacon 197.55150$100\n",
      "13ebr0508 197.55150$100\n",
      "15bowl800s 195.95150$87.50\n",
      "15chfen07 Member195.9550$87.50\n",
      "17patkingpin Member194.6150$75\n",
      "18bowl800s 193.95150$75\n",
      "18bowl800s 193.95150$75\n",
      "20CaliBadBoy Member193.75150$65\n",
      "20patkingpin Member193.75150$65\n",
      "20bcmaciver10 193.751$65\n",
      "23toby3826 Member193.55150$60\n",
      "24bigkat519 Member192.95150$60\n",
      "25bowhuntr24 192.61$60\n",
      "26chfen07 Member191.9550$60\n",
      "26patkingpin Member191.95150$60\n",
      "28ALLINANT515 Member191.7510$52.31\n",
      "28ALLINANT515 Member191.7510$52.31\n",
      "28ALLINANT515 Member191.7510$52.31\n",
      "28ALLINANT515 Member191.7510$52.31\n",
      "28ALLINANT515 Member191.7510$52.31\n",
      "28ALLINANT515 Member191.7510$52.31\n",
      "28ALLINANT515 Member191.7510$52.31\n",
      "28ALLINANT515 Member191.7510$52.31\n",
      "28ALLINANT515 Member191.7510$52.31\n",
      "28ALLINANT515 Member191.7510$52.31\n",
      "28walterfootball 191.75150$52.31\n",
      "28CaliBadBoy Member191.75150$52.31\n",
      "28CaliBadBoy Member191.75150$52.31\n",
      "41walterfootball 191.6150$40\n",
      "41wicked_mumbles Member191.6150$40\n",
      "43NoLuckDuck 190.957$40\n",
      "43cleanairact 190.95150$40\n",
      "43cliassyfp Member190.95150$40\n",
      "43Craiglett 190.95150$40\n",
      "47NoLuckDuck 190.77$40\n",
      "47walsean1 190.753$40\n",
      "47walsean1 190.753$40\n",
      "50billsbestone Member189.95150$31.43\n"
     ]
    }
   ],
   "source": [
    "# Get the title and teaser from first article\n",
    "# print(f'results are: {results}')\n",
    "entries = []\n",
    "for data in results.find_all('tr'):\n",
    "    entries.append(data.text)\n",
    "    print(data.text)"
   ]
  },
  {
   "cell_type": "code",
   "execution_count": 17,
   "metadata": {},
   "outputs": [
    {
     "data": {
      "text/plain": [
       "'1jcarter2k 208.951$3,000'"
      ]
     },
     "execution_count": 17,
     "metadata": {},
     "output_type": "execute_result"
    }
   ],
   "source": [
    "entries[1]"
   ]
  }
 ],
 "metadata": {
  "kernelspec": {
   "display_name": "Python 3",
   "language": "python",
   "name": "python3"
  },
  "language_info": {
   "codemirror_mode": {
    "name": "ipython",
    "version": 3
   },
   "file_extension": ".py",
   "mimetype": "text/x-python",
   "name": "python",
   "nbconvert_exporter": "python",
   "pygments_lexer": "ipython3",
   "version": "3.6.10"
  }
 },
 "nbformat": 4,
 "nbformat_minor": 4
}
