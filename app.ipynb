{
 "cells": [
  {
   "cell_type": "code",
   "execution_count": null,
   "metadata": {},
   "outputs": [],
   "source": [
    "# Dependencies\n",
    "import pandas as pd\n",
    "import glob"
   ]
  },
  {
   "cell_type": "code",
   "execution_count": null,
   "metadata": {},
   "outputs": [],
   "source": [
    "# Path to all csv files.\n",
    "# NEED TO ADD: only add new csv files. Use subfolders?\n",
    "path = 'resources' \n",
    "all_files = glob.glob(path + \"/*.csv\")\n",
    "# print(all_files)"
   ]
  },
  {
   "cell_type": "code",
   "execution_count": null,
   "metadata": {},
   "outputs": [],
   "source": [
    "#Empty list, counters. loop through and read all files. check results\n",
    "dfs = []\n",
    "worked = 0\n",
    "failed = 0\n",
    "\n",
    "for filename in all_files:\n",
    "    try:\n",
    "        df = pd.read_csv(filename, index_col=None, header=0)\n",
    "        dfs.append(df)\n",
    "        worked += 1\n",
    "#         print(f'{filename} worked')\n",
    "    except:\n",
    "        failed += 1\n",
    "#         print(f'{filename} did not work')\n",
    "\n",
    "print(f'{worked} csv files worked. {failed} files did not work')"
   ]
  },
  {
   "cell_type": "code",
   "execution_count": null,
   "metadata": {},
   "outputs": [],
   "source": [
    "# Final combined df\n",
    "combined_frame = pd.concat(dfs, axis=0, ignore_index=True)\n",
    "combined_frame.head()"
   ]
  },
  {
   "cell_type": "code",
   "execution_count": null,
   "metadata": {},
   "outputs": [],
   "source": [
    "# want to loop through each df, perform clean up, and then combine into one\n",
    "\n",
    "for df in dfs:\n",
    "    print(df.head)"
   ]
  },
  {
   "cell_type": "code",
   "execution_count": null,
   "metadata": {},
   "outputs": [],
   "source": [
    "# use just one df as test\n",
    "test_df = dfs[0]\n",
    "test_df.head()"
   ]
  },
  {
   "cell_type": "code",
   "execution_count": null,
   "metadata": {},
   "outputs": [],
   "source": [
    "# drop unneeded columns\n",
    "test_df.drop(columns = ['TimeRemaining', 'Player', 'Roster Position', 'Unnamed: 6', '%Drafted', 'FPTS'], inplace=True)"
   ]
  },
  {
   "cell_type": "code",
   "execution_count": null,
   "metadata": {},
   "outputs": [],
   "source": [
    "test_df.head()"
   ]
  },
  {
   "cell_type": "code",
   "execution_count": null,
   "metadata": {},
   "outputs": [],
   "source": [
    "#trying to split off into seperate columns for each player\n",
    "player_split = test_df['Lineup'].str.split(pat = \" \", expand = True, n = -1)"
   ]
  },
  {
   "cell_type": "code",
   "execution_count": null,
   "metadata": {},
   "outputs": [],
   "source": [
    "player_split[0]"
   ]
  },
  {
   "cell_type": "code",
   "execution_count": null,
   "metadata": {},
   "outputs": [],
   "source": [
    "test_df.head()"
   ]
  }
 ],
 "metadata": {
  "kernelspec": {
   "display_name": "Python 3",
   "language": "python",
   "name": "python3"
  },
  "language_info": {
   "codemirror_mode": {
    "name": "ipython",
    "version": 3
   },
   "file_extension": ".py",
   "mimetype": "text/x-python",
   "name": "python",
   "nbconvert_exporter": "python",
   "pygments_lexer": "ipython3",
   "version": "3.6.10"
  }
 },
 "nbformat": 4,
 "nbformat_minor": 4
}
